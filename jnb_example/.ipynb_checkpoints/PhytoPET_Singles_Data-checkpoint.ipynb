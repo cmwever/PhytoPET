{
 "cells": [
  {
   "cell_type": "markdown",
   "metadata": {},
   "source": [
    "# PET simulation analysis\n",
    "\n",
    "Analysis after the simulation :\n",
    "- in folder: pet/\n",
    "- macro: main.mac\n"
   ]
  },
  {
   "cell_type": "code",
   "execution_count": 1,
   "metadata": {},
   "outputs": [],
   "source": [
    "%matplotlib inline\n",
    "import matplotlib.pyplot as plt\n",
    "from matplotlib.colors import LogNorm\n",
    "from scipy.interpolate import griddata\n",
    "from matplotlib import collections  as mc\n",
    "import numpy as np\n",
    "from ipywidgets import interact\n",
    "import os\n",
    "from pathlib import Path\n",
    "import uproot\n",
    "import pandas as pd"
   ]
  },
  {
   "cell_type": "code",
   "execution_count": 2,
   "metadata": {},
   "outputs": [
    {
     "name": "stdout",
     "output_type": "stream",
     "text": [
      "The Current Working Directory (CWD) is: \n",
      " /Users/cmwever73/Desktop/phytoPET/jnb_example\n"
     ]
    }
   ],
   "source": [
    "# The following command display the current working directory (where jupyter has been launched)\n",
    "cwd = os.getcwd()\n",
    "print('The Current Working Directory (CWD) is: \\n', cwd)\n",
    "folder = Path('/Users/cmwever73/Desktop/phytoPET/jnb_example/')\n",
    "if (not folder.is_dir()):\n",
    "    print('ERROR: {} is not a folder.'.format(folder))\n",
    "filename = os.path.join(folder, '19.8.root')\n",
    "f = uproot.open(filename)"
   ]
  },
  {
   "cell_type": "code",
   "execution_count": 3,
   "metadata": {},
   "outputs": [
    {
     "name": "stdout",
     "output_type": "stream",
     "text": [
      "List of keys: \n",
      " [b'Singles;353', b'Singles;352', b'latest_event_ID;1', b'total_nb_primaries;1', b'Hits;1', b'OpticalData;1', b'Coincidences;1', b'delay;1']\n"
     ]
    }
   ],
   "source": [
    "print(\"List of keys: \\n\", f.keys())"
   ]
  },
  {
   "cell_type": "code",
   "execution_count": 4,
   "metadata": {},
   "outputs": [
    {
     "name": "stdout",
     "output_type": "stream",
     "text": [
      "Number of Singles : 352604\n",
      "Singles: \n",
      "b'runID'  b'eventID'  b'sourceID'  b'sourcePosX'  b'sourcePosY'  b'sourcePosZ'  b'time'  b'energy'  b'globalPosX'  b'globalPosY'  b'globalPosZ'  b'gantryID'  b'blockID'  b'crystalID'  b'unused3ID'  b'unused4ID'  b'unused5ID'  b'comptonPhantom'  b'comptonCrystal'  b'RayleighPhantom'  b'RayleighCrystal'  b'axialPos'  b'rotationAngle'  b'comptVolName'  b'RayleighVolName'  "
     ]
    }
   ],
   "source": [
    "singles = f[b'Singles']\n",
    "print('Number of Singles :', len(singles))\n",
    "print('Singles: ')\n",
    "for i in singles.keys():\n",
    "    print(i, ' ', end='')"
   ]
  },
  {
   "cell_type": "code",
   "execution_count": null,
   "metadata": {},
   "outputs": [],
   "source": [
    "time = singles.arrays()[b'time'] \n",
    "energy = singles.arrays()[b'energy']\n",
    "crystalID = singles.arrays()[b'crystalID']\n",
    "#each crystal has an ID there would 4608 of them total (48x48x2), 2304 per crystal \n",
    "x = singles.arrays()[b'globalPosX']\n",
    "y = singles.arrays()[b'globalPosY']\n",
    "z = singles.arrays()[b'globalPosZ']\n",
    "\n",
    "crystalarr1 = np.column_stack((x,y,z,crystalID,energy,time))\n",
    "crystalarr1[:,4] *= 1000\n",
    "crystalarr = crystalarr1[np.where((crystalarr1[:,4] > 100))[0]]\n",
    "singA = crystalarr[np.where((crystalarr[:, 0] < 0.000))[0]]\n",
    "#This is here, if you want to save information in a txt file\n",
    "#np.savetxt('singA.txt', singA)\n",
    "#print(len(singA))\n",
    "\n",
    "singB = crystalarr[np.where((crystalarr[:, 0] > 0.000))[0]]\n",
    "#np.savetxt('singB.txt', singB)\n",
    "#print(len(singB))"
   ]
  },
  {
   "cell_type": "markdown",
   "metadata": {},
   "source": [
    "# Energy Deposition of Simulated Data"
   ]
  },
  {
   "cell_type": "code",
   "execution_count": null,
   "metadata": {},
   "outputs": [],
   "source": [
    "from mpl_toolkits.axes_grid1 import make_axes_locatable\n",
    "leng = 161007\n",
    "fig, ax = plt.subplots(1,2, figsize=(15, 15))\n",
    "#singA = np.loadtxt(fname = \"singA.txt\", dtype = 'float')\n",
    "xA = singA[:leng, 0]\n",
    "yA = singA[:leng, 1]\n",
    "zA = singA[:leng, 2]\n",
    "dA = singA[:leng, 4]\n",
    "yminA = min(singA[:leng, 1])\n",
    "ymaxA = max(singA[:leng, 1])\n",
    "zminA = min(singA[:leng, 2])\n",
    "zmaxA = max(singA[:leng, 2])\n",
    "    \n",
    "#singB = np.loadtxt(fname = \"singB.txt\", dtype = 'float')\n",
    "xB = singB[:leng, 0]\n",
    "yB = singB[:leng, 1]\n",
    "zB = singB[:leng, 2]\n",
    "dB = singB[:leng, 4]\n",
    "yminB = min(singB[:leng, 1])\n",
    "ymaxB = max(singB[:leng, 1])\n",
    "zminB = min(singB[:leng, 2])\n",
    "zmaxB = max(singB[:leng, 2])\n",
    "\n",
    "#zi, yi = np.meshgrid(np.linspace(-0.4625, 0.4625, 48), np.linspace(-0.4625, 0.4625, 48))\n",
    "ziRdg, yiRdg = np.meshgrid(np.linspace(0, 0.84792, 43), np.linspace(0, 0.84792, 43))\n",
    "Z,Y = np.meshgrid(ziRdg,yiRdg)\n",
    "\n",
    "#Z,Y = np.meshgrid(zi,yi)\n",
    "Z,Y = np.meshgrid(ziRdg,yiRdg)\n",
    "\n",
    "diA = griddata((zA, yA), dA, (Z, Y))\n",
    "diB = griddata((zB, yB), dB, (Z, Y))\n",
    "\n",
    "posA = ax[0].contourf(Z, Y, diA, 30, cmap='jet')\n",
    "ax[0].plot(ziRdg, yiRdg, 'k-', lw=0.3, alpha=0.4)\n",
    "ax[0].plot(ziRdg.T, yiRdg.T, 'k-', lw=0.3, alpha=0.4)\n",
    "ax[0].set_title('Positions (2D) of hits on Detector A, face view')\n",
    "ax[0].set_xlabel('Z position in mm')\n",
    "ax[0].set_ylabel('Y position in mm')\n",
    "ax[0].set_aspect('equal')\n",
    "\n",
    "divider = make_axes_locatable(ax[0])\n",
    "cax2 = divider.append_axes(\"right\", size=\"5%\", pad=0.05)\n",
    "cbr = fig.colorbar(posA, cax=cax2)\n",
    "cbr.ax.set_ylabel('Energy in KeV')\n",
    "plt.tight_layout(h_pad=1)\n",
    "\n",
    "\n",
    "posB = ax[1].contourf(Z, Y, diB, 30, cmap='jet')\n",
    "ax[1].plot(ziRdg, yiRdg, 'k-', lw=0.3, alpha=0.4)\n",
    "ax[1].plot(ziRdg.T, yiRdg.T, 'k-', lw=0.3, alpha=0.4)\n",
    "ax[1].set_title('Positions (2D) of hits on Detector B, face view')\n",
    "ax[1].set_xlabel('Z position in mm')\n",
    "ax[1].set_ylabel('Y position in mm')\n",
    "ax[1].set_aspect('equal')\n",
    "\n",
    "divider = make_axes_locatable(ax[1])\n",
    "cax2 = divider.append_axes(\"right\", size=\"5%\", pad=0.05)\n",
    "cbr = fig.colorbar(posB, cax=cax2)\n",
    "cbr.ax.set_ylabel('Energy in KeV')\n",
    "plt.tight_layout(h_pad=1)\n",
    "\n",
    "#dims = 0.4625/48\n",
    "\n",
    "#plt.savefig('../Plots/sing_energy1.png')"
   ]
  },
  {
   "cell_type": "markdown",
   "metadata": {},
   "source": [
    "# Counts Per Crystal Simulated Data"
   ]
  },
  {
   "cell_type": "code",
   "execution_count": null,
   "metadata": {},
   "outputs": [],
   "source": [
    "fig, ax = plt.subplots(1,2, figsize=(15, 15))\n",
    "\n",
    "h = ax[0].hist2d(-zA, yA, bins=44, cmap='CMRmap')\n",
    "ax[0].set_title('Counts in 44x44 Bin A', fontsize=18)\n",
    "ax[0].set_xlabel('Z position in mm', fontsize=14)\n",
    "ax[0].set_ylabel('Y position in mm', fontsize=14)\n",
    "ax[0].set_aspect('equal')\n",
    "\n",
    "h1= ax[1].hist2d(zB, yB, bins=44, cmap='CMRmap')\n",
    "ax[1].set_title('Counts in 44x44 Bin B', fontsize=18)\n",
    "ax[1].set_xlabel('Z position in mm', fontsize=14)\n",
    "ax[1].set_ylabel('Y position in mm', fontsize=14)\n",
    "ax[1].set_aspect('equal')\n",
    "\n",
    "cbar = plt.colorbar(h[3], ax=ax, fraction=.022)\n",
    "cbar.ax.set_ylabel('Counts in Bin', fontsize=14)\n",
    "\n",
    "plt.savefig('Plots/singles_pos_allbaised_44.png')"
   ]
  },
  {
   "cell_type": "markdown",
   "metadata": {},
   "source": [
    "# Counts in Annode Simulated Data"
   ]
  },
  {
   "cell_type": "code",
   "execution_count": null,
   "metadata": {},
   "outputs": [],
   "source": [
    "fig, ax = plt.subplots(1,2, figsize=(15, 15))\n",
    "h2 = ax[0].hist2d(-zA, yA, bins=8, cmap='CMRmap')\n",
    "ax[0].set_title('Counts in 8x8 Bin A', fontsize=18)\n",
    "ax[0].set_xlabel('Z position in mm', fontsize=14 )\n",
    "ax[0].set_ylabel('Y position in mm', fontsize=14 )\n",
    "ax[0].set_ylim(-21, 21)\n",
    "ax[0].set_aspect('equal')\n",
    "\n",
    "h3= ax[1].hist2d(zB, yB, bins=8, cmap='CMRmap')\n",
    "ax[1].set_title('Counts in 8x8 Bin B', fontsize=18)\n",
    "ax[1].set_xlabel('Z position in mm', fontsize=14 )\n",
    "ax[1].set_ylabel('Y position in mm', fontsize=14 )\n",
    "ax[1].set_ylim(-21, 21)\n",
    "ax[1].set_aspect('equal')\n",
    "cbar = plt.colorbar(h[3], ax=ax, fraction=.022)\n",
    "cbar.ax.set_ylabel('Counts in Bin', fontsize=14 )\n",
    "\n",
    "plt.savefig('Plots/singles_pos_allbaised_anode.png')"
   ]
  },
  {
   "cell_type": "code",
   "execution_count": null,
   "metadata": {},
   "outputs": [],
   "source": [
    "#Read in RDG Excel Data\n",
    "df = pd.read_excel (r'rdg_data.xlsx')\n",
    "aar = df[[\"x1\", \"y1\", \"e1\", \"time\"]].to_numpy()\n",
    "bar = df[[\"x2\", \"y2\", \"e2\", \"time\"]].to_numpy()"
   ]
  },
  {
   "cell_type": "markdown",
   "metadata": {},
   "source": [
    "# Energy Deposition RDG Data"
   ]
  },
  {
   "cell_type": "code",
   "execution_count": null,
   "metadata": {},
   "outputs": [],
   "source": [
    "from mpl_toolkits.axes_grid1 import make_axes_locatable\n",
    "leng =  80504\n",
    "fig, ax = plt.subplots(1,2, figsize=(15, 15))\n",
    "\n",
    "xA = aar[:leng, 0]\n",
    "yA = aar[:leng, 1]\n",
    "depA = aar[:leng, 2]\n",
    "yminA = min(aar[:leng, 0])\n",
    "ymaxA = max(aar[:leng, 0])\n",
    "zminA = min(aar[:leng, 1])\n",
    "zmaxA = max(aar[:leng, 1])\n",
    "\n",
    "xB = bar[:leng, 0]\n",
    "yB = bar[:leng, 1]\n",
    "depB = bar[:leng, 2]\n",
    "yminB = min(bar[:leng, 0])\n",
    "ymaxB = max(bar[:leng, 0])\n",
    "zminB = min(bar[:leng, 1])\n",
    "zmaxB = max(bar[:leng, 1])\n",
    "\n",
    "\n",
    "# yi, zi = np.meshgrid(np.linspace(-0.42396, 0.42396, 48), np.linspace(-0.42396, 0.42396, 48))\n",
    "xiRdg, yiRdg = np.meshgrid(np.linspace(0, 0.84792, 43), np.linspace(0, 0.84792, 43))\n",
    "X,Y = np.meshgrid(xiRdg,yiRdg)\n",
    "\n",
    "diA = griddata((xA, yA), depA, (X, Y))\n",
    "diB = griddata((xB, yB), depB, (X, Y))\n",
    "\n",
    "posA = ax[0].contourf(X, Y, diA, 30, cmap='jet')\n",
    "ax[0].plot(xiRdg, yiRdg, 'k-', lw=0.3, alpha=0.4)\n",
    "ax[0].plot(xiRdg.T, yiRdg.T, 'k-', lw=0.3, alpha=0.4)\n",
    "ax[0].set_title('Positions (2D) of hits on Detector A, face view, 44x44')\n",
    "ax[0].set_xlabel('Y position in mm')\n",
    "ax[0].set_ylabel('Z position in mm')\n",
    "ax[0].set_aspect('equal')\n",
    "\n",
    "divider = make_axes_locatable(ax[0])\n",
    "cax2 = divider.append_axes(\"right\", size=\"5%\", pad=0.05)\n",
    "cbr = fig.colorbar(posB, cax=cax2)\n",
    "cbr.ax.set_ylabel('Energy in KeV')\n",
    "plt.tight_layout(h_pad=1)\n",
    "\n",
    "posB = ax[1].contourf(X, Y, diB, 30, cmap='jet')\n",
    "ax[1].plot(xiRdg, yiRdg, 'k-', lw=0.3, alpha=0.4)\n",
    "ax[1].plot(xiRdg.T, yiRdg.T, 'k-', lw=0.3, alpha=0.4)\n",
    "ax[1].set_title('Positions (2D) of hits on Detector B, face view, 44x44')\n",
    "ax[1].set_xlabel('Y position in mm')\n",
    "ax[1].set_ylabel('Z position in mm')\n",
    "ax[1].set_aspect('equal')\n",
    "\n",
    "#cbr = fig.colorbar(posB, ax=ax)\n",
    "#cbr.set_label('Energy in MeV', rotation=270)\n",
    "\n",
    "divider = make_axes_locatable(ax[1])\n",
    "cax2 = divider.append_axes(\"right\", size=\"5%\", pad=0.05)\n",
    "cbr = fig.colorbar(posB, cax=cax2)\n",
    "cbr.ax.set_ylabel('Energy in KeV')\n",
    "plt.tight_layout(h_pad=1)\n",
    "\n",
    "plt.savefig('Plots/energy_rdg_data.png')"
   ]
  },
  {
   "cell_type": "markdown",
   "metadata": {},
   "source": [
    "# Counts in Crystal RDG Data"
   ]
  },
  {
   "cell_type": "code",
   "execution_count": null,
   "metadata": {},
   "outputs": [],
   "source": [
    "fig, ax = plt.subplots(1,2, figsize=(15, 15))\n",
    "\n",
    "h = ax[0].hist2d(xA, yA, bins=44, cmap='CMRmap')\n",
    "ax[0].set_title('Counts in 44x44 Bin A', fontsize=18)\n",
    "ax[0].set_xlabel('X position in mm', fontsize=14 )\n",
    "ax[0].set_ylabel('Y position in mm', fontsize=14 )\n",
    "ax[0].set_aspect('equal')\n",
    "\n",
    "h1= ax[1].hist2d(xB, yB, bins=44, cmap='CMRmap')\n",
    "ax[1].set_title('Counts in 44x44 Bin B', fontsize=18)\n",
    "ax[1].set_xlabel('X position in mm', fontsize=14)\n",
    "ax[1].set_ylabel('Y position in mm', fontsize=14)\n",
    "ax[1].set_aspect('equal')\n",
    "\n",
    "cbar = plt.colorbar(h[3], ax=ax, fraction=.022)\n",
    "cbar.ax.set_ylabel('Counts in Bin', fontsize=14)\n",
    "\n",
    "plt.savefig('Plots/singles_pos_rdg_data_44.png')"
   ]
  },
  {
   "cell_type": "markdown",
   "metadata": {},
   "source": [
    "# Counts in Anode RDG Data"
   ]
  },
  {
   "cell_type": "code",
   "execution_count": null,
   "metadata": {},
   "outputs": [],
   "source": [
    "fig, ax = plt.subplots(1,2, figsize=(15, 15))\n",
    "\n",
    "h2 = ax[0].hist2d(xA, yA, bins=8, cmap='CMRmap')\n",
    "ax[0].set_title('Counts in 8x8 Bin A', fontsize=18)\n",
    "ax[0].set_xlabel('X position in mm', fontsize=14 )\n",
    "ax[0].set_ylabel('Y position in mm', fontsize=14 )\n",
    "ax[0].set_aspect('equal')\n",
    "\n",
    "\n",
    "h3= ax[1].hist2d(xB, yB, bins=8, cmap='CMRmap')\n",
    "ax[1].set_title('Counts in 8x8 Bin A', fontsize=18)\n",
    "ax[1].set_xlabel('X position in mm', fontsize=14 )\n",
    "ax[1].set_ylabel('Y position in mm', fontsize=14 )\n",
    "ax[1].set_aspect('equal')\n",
    "\n",
    "cbar = plt.colorbar(h[3], ax=ax, fraction=.022)\n",
    "cbar.ax.set_ylabel('Counts in Bin', fontsize=14)\n",
    "\n",
    "plt.savefig('Plots/singles_pos_rdg_data_anode.png')"
   ]
  },
  {
   "cell_type": "markdown",
   "metadata": {},
   "source": [
    "# Energy Spectrum Graph Simulated Data"
   ]
  },
  {
   "cell_type": "code",
   "execution_count": null,
   "metadata": {},
   "outputs": [],
   "source": [
    "#All my simulated Data\n",
    "crystalarr2 = np.column_stack((x,y,z,crystalID,energy,time))\n",
    "crystalarr2[:,4] *= 1000\n",
    "plt.figure(figsize=[10,8])\n",
    "plt.hist(crystalarr2[:,4], bins = 1000,  color='r', linewidth=1) \n",
    "plt.title(\"Energy vs Counts\",fontsize=15 ) \n",
    "plt.yticks(np.arange(0, 1300, step=100)) \n",
    "plt.xticks(np.arange(100, 800, step=50)) \n",
    "plt.xlim(100, 800)\n",
    "plt.grid(axis='y', alpha=0.75)\n",
    "plt.grid(axis='x', alpha=0.75)\n",
    "#plt.yscale('log')\n",
    "plt.xlabel('Energy (KeV)',fontsize=15)\n",
    "plt.ylabel('Counts',fontsize=15)\n",
    "plt.xticks(fontsize=15)\n",
    "plt.yticks(fontsize=15)\n",
    "plt.savefig('Plots/EvsCounts_all.png')\n",
    "plt.show()"
   ]
  },
  {
   "cell_type": "code",
   "execution_count": null,
   "metadata": {},
   "outputs": [],
   "source": [
    "#only as many counts as RDG\n",
    "crystalarr2 = np.column_stack((x[:161007],y[:161007],z[:161007],crystalID[:161007],energy[:161007],time[:161007]))\n",
    "crystalarr2[:,4] *= 1000\n",
    "plt.figure(figsize=[10,8])\n",
    "plt.hist(crystalarr2[:,4], bins = 1000,  color='r', linewidth=1) \n",
    "plt.title(\"Energy vs Counts\",fontsize=15 ) \n",
    "plt.yticks(np.arange(0, 600, step=100)) \n",
    "plt.xticks(np.arange(100, 800, step=50)) \n",
    "plt.xlim(100, 800)\n",
    "plt.grid(axis='y', alpha=0.75)\n",
    "plt.grid(axis='x', alpha=0.75)\n",
    "#plt.yscale('log')\n",
    "plt.xlabel('Energy (KeV)',fontsize=15)\n",
    "plt.ylabel('Counts',fontsize=15)\n",
    "plt.xticks(fontsize=15)\n",
    "plt.yticks(fontsize=15)\n",
    "plt.savefig('Plots/EvsCounts_matchRDGcount.png')\n",
    "plt.show()"
   ]
  },
  {
   "cell_type": "markdown",
   "metadata": {},
   "source": [
    "# Energy Spectrum Graph RDG Dada"
   ]
  },
  {
   "cell_type": "code",
   "execution_count": null,
   "metadata": {},
   "outputs": [],
   "source": [
    "totstack = np.vstack((aar,bar))\n",
    "print(totstack)\n",
    "totE = totstack[:,2]\n",
    "print(totE)\n",
    "# totEar = totEar1[np.where((totEar1[:,2] > 100))[0]]\n",
    "plt.figure(figsize=[10,8])\n",
    "plt.hist(totE, bins = 1000,  color='r', linewidth=1) \n",
    "plt.title(\"Energy vs Counts\",fontsize=15 ) \n",
    "plt.yticks(np.arange(0, 1400, step=100)) \n",
    "plt.xticks(np.arange(100, 800, step=50)) \n",
    "plt.xlim(100, 800)\n",
    "plt.grid(axis='y', alpha=0.75)\n",
    "plt.grid(axis='x', alpha=0.75)\n",
    "#plt.yscale('log')\n",
    "plt.xlabel('Energy (KeV)',fontsize=15)\n",
    "plt.ylabel('Counts',fontsize=15)\n",
    "plt.xticks(fontsize=15)\n",
    "plt.yticks(fontsize=15)\n",
    "plt.savefig('Plots/EvsCounts_rdg.png')\n",
    "plt.show()"
   ]
  },
  {
   "cell_type": "markdown",
   "metadata": {},
   "source": [
    "# Calculate FWHM of RDG Data"
   ]
  },
  {
   "cell_type": "code",
   "execution_count": null,
   "metadata": {},
   "outputs": [],
   "source": [
    "totEar = totE[np.where((totE > 400) & (totE < 625))[0]]\n",
    "dfa = pd.DataFrame(data=totEar,columns=[\"energy\"])\n",
    "print(dfa.mean())\n",
    "dfcounts = dfa['energy'].value_counts()\n",
    "print('STD_RDG:', dfa.std(axis = 0))\n",
    "sigma = dfa.std(axis = 0)\n",
    "fwhm = 2.35*sigma\n",
    "print('FWHM_RDG:', fwhm)"
   ]
  },
  {
   "cell_type": "markdown",
   "metadata": {},
   "source": [
    "# Calculate FWHM of Simulated Data"
   ]
  },
  {
   "cell_type": "code",
   "execution_count": null,
   "metadata": {},
   "outputs": [],
   "source": [
    "#All simulated Events\n",
    "mydata = np.column_stack((energy)).T\n",
    "mydata1 = mydata*1000\n",
    "mydata2 = mydata1[np.where((mydata1 > 400) & (mydata1< 625))[0]]\n",
    "dfb = pd.DataFrame(data=mydata2,columns=[\"energy\"])\n",
    "print(dfb.mean())\n",
    "dfcounts = dfb['energy'].value_counts()\n",
    "print('STD_RDG:', dfb.std(axis = 0))\n",
    "sigma = dfb.std(axis = 0)\n",
    "fwhm = 2.35*sigma\n",
    "print('FWHM_RDG:', fwhm)"
   ]
  },
  {
   "cell_type": "code",
   "execution_count": null,
   "metadata": {},
   "outputs": [],
   "source": [
    "#Only first 161007 events\n",
    "mydata = np.column_stack((energy)).T\n",
    "mydata1 = mydata[:161007]\n",
    "mydata1 = mydata1*1000\n",
    "mydata2 = mydata1[np.where((mydata1 > 400) & (mydata1< 625))[0]]\n",
    "dfc = pd.DataFrame(data=mydata2,columns=[\"energy\"])\n",
    "print(dfc.mean())\n",
    "dfcounts = dfc['energy'].value_counts()\n",
    "print('STD_RDG:', dfc.std(axis = 0))\n",
    "sigma = dfc.std(axis = 0)\n",
    "fwhm = 2.35*sigma\n",
    "print('FWHM_RDG:', fwhm)"
   ]
  },
  {
   "cell_type": "markdown",
   "metadata": {},
   "source": [
    "# Side View of Detectors Simulated Data"
   ]
  },
  {
   "cell_type": "code",
   "execution_count": null,
   "metadata": {},
   "outputs": [],
   "source": [
    "hits_x = singles.arrays()[b'globalPosX']\n",
    "hits_y = singles.arrays()[b'globalPosY']\n",
    "plt.figure(figsize=[10,8])\n",
    "plt.scatter(hits_x, hits_y, alpha=0.1, s=3)\n",
    "plt.title('Side View of Positions (2D) of Singles in the Detector', fontsize=18)\n",
    "plt.xlabel('X position in mm', fontsize=14)\n",
    "plt.ylabel('Y position in mm', fontsize=14)\n",
    "plt.savefig('Plots/sings_birdeye.png')"
   ]
  },
  {
   "cell_type": "markdown",
   "metadata": {},
   "source": [
    "# DataFrame Example"
   ]
  },
  {
   "cell_type": "code",
   "execution_count": null,
   "metadata": {},
   "outputs": [],
   "source": [
    "dfA = pd.DataFrame(data=singA, columns=[\"X (mm)\", \"Y(mm)\",\"Z(mm)\",\"CrysID\",\"Energy(KeV)\",\"time (s)\"])\n",
    "dfB = pd.DataFrame(data=singB, columns=[\"X (mm)\", \"Y(mm)\",\"Z(mm)\",\"CrysID\",\"Energy(KeV)\",\"time (s)\"])\n",
    "#np.savetxt('dfAsing.txt', dfA.values)\n",
    "#np.savetxt('dfBsing.txt', dfB.values)\n",
    "sortDfA = dfA.sort_values(by=[\"CrysID\"])\n",
    "#sortDfB = dfB.sort_values(by=['CrysID'])\n",
    "print(dfB)\n",
    "print (dfA)"
   ]
  },
  {
   "cell_type": "markdown",
   "metadata": {},
   "source": [
    "# Read in Hit Data"
   ]
  },
  {
   "cell_type": "code",
   "execution_count": null,
   "metadata": {},
   "outputs": [],
   "source": [
    "hits = f[b'Hits']\n",
    "print('Number of hits:', len(hits))\n",
    "print('Hits: ')\n",
    "for i in hits.keys():\n",
    "    print(i, ' ', end='')"
   ]
  },
  {
   "cell_type": "markdown",
   "metadata": {},
   "source": [
    "# Read in Coincident Data"
   ]
  },
  {
   "cell_type": "code",
   "execution_count": null,
   "metadata": {},
   "outputs": [],
   "source": [
    "coinc = f[b'Coincidences']\n",
    "print('Number of coincidences :', len(coinc))\n",
    "print('coinc: ')\n",
    "for i in coinc.keys():\n",
    "    print(i, ' ', end='')"
   ]
  },
  {
   "cell_type": "markdown",
   "metadata": {},
   "source": [
    "# LOR Graph"
   ]
  },
  {
   "cell_type": "code",
   "execution_count": null,
   "metadata": {},
   "outputs": [],
   "source": [
    "fig, ax = plt.subplots(1, 1, figsize=(10, 10))\n",
    "\n",
    "x1 = coinc.arrays()[b'globalPosX1']\n",
    "y1 = coinc.arrays()[b'globalPosY1']\n",
    "x2 = coinc.arrays()[b'globalPosX2']\n",
    "y2 = coinc.arrays()[b'globalPosY2']\n",
    "\n",
    "print(b'globalPosX1'[:100])\n",
    "ax.plot([x1,x2],[y1,y2])\n",
    "\n",
    "ax.autoscale()\n",
    "ax.set_xlabel('Position in mm')\n",
    "ax.set_ylabel('Poisition in mm')\n",
    "ax.set_title('Lines of response (LOR)')"
   ]
  },
  {
   "cell_type": "code",
   "execution_count": null,
   "metadata": {},
   "outputs": [],
   "source": []
  }
 ],
 "metadata": {
  "kernelspec": {
   "display_name": "Python 3",
   "language": "python",
   "name": "python3"
  },
  "language_info": {
   "codemirror_mode": {
    "name": "ipython",
    "version": 3
   },
   "file_extension": ".py",
   "mimetype": "text/x-python",
   "name": "python",
   "nbconvert_exporter": "python",
   "pygments_lexer": "ipython3",
   "version": "3.7.3"
  }
 },
 "nbformat": 4,
 "nbformat_minor": 2
}
